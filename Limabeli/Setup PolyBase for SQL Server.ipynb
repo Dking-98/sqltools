{
    "metadata": {
        "kernelspec": {
            "name": "SQL",
            "display_name": "SQL",
            "language": "sql"
        },
        "language_info": {
            "name": "sql",
            "version": ""
        }
    },
    "nbformat_minor": 2,
    "nbformat": 4,
    "cells": [
        {
            "cell_type": "markdown",
            "source": [
                "# Setup PolyBase in SQL Server 2019\r\n",
                "The following queries will setup PolyBase and create a connection to another SQL Server Instance.\r\n",
                "\r\n",
                "Source: [GitHub SQL Tools](https://github.com/schenkfab/sqltools)"
            ],
            "metadata": {
                "azdata_cell_guid": "26ccc8fb-d92a-4ec8-8de2-595eef6052f3"
            }
        },
        {
            "cell_type": "markdown",
            "source": [
                "## Prerequisites\r\n",
                "Make sure that PolyBase is installed and enabled."
            ],
            "metadata": {
                "azdata_cell_guid": "0e43b274-4f3e-4674-a7c8-74b4c48a6ba5"
            }
        },
        {
            "cell_type": "code",
            "source": [
                "SELECT SERVERPROPERTY ('IsPolyBaseInstalled') AS IsPolyBaseInstalled; \r\n",
                "GO\r\n",
                "EXEC sp_configure @configname = 'polybase enabled', @configvalue = 1;\r\n",
                "RECONFIGURE WITH OVERRIDE ; "
            ],
            "metadata": {
                "azdata_cell_guid": "575d6b3a-fffa-422f-a32d-8425aa345da2"
            },
            "outputs": [],
            "execution_count": null
        },
        {
            "cell_type": "markdown",
            "source": [
                "## Create Test Database\r\n",
                "Let's create a database which is going to hold the external tables."
            ],
            "metadata": {
                "azdata_cell_guid": "f4b57138-05bd-40d0-9b50-0dfacfc78d26"
            }
        },
        {
            "cell_type": "code",
            "source": [
                "CREATE DATABASE [PolyBase]\r\n",
                "GO"
            ],
            "metadata": {
                "azdata_cell_guid": "55a42ef3-38d7-4440-9cba-39cff1454bb5"
            },
            "outputs": [],
            "execution_count": null
        },
        {
            "cell_type": "code",
            "source": [
                "USE [PolyBase]"
            ],
            "metadata": {
                "azdata_cell_guid": "d19f92ed-d647-4e9b-97f6-f7d00d69ef70"
            },
            "outputs": [],
            "execution_count": null
        },
        {
            "cell_type": "markdown",
            "source": [
                "## Create Master Key\r\n",
                "The Master Key is going to be used to encrypt the secret of the Credentials"
            ],
            "metadata": {
                "azdata_cell_guid": "998911db-ebf4-41ea-b24b-773839be6ccd"
            }
        },
        {
            "cell_type": "code",
            "source": [
                "CREATE MASTER KEY ENCRYPTION BY PASSWORD = 'ThisIsMyPassword:P@ssw0rd1'"
            ],
            "metadata": {
                "azdata_cell_guid": "16adcfd4-9a48-4011-a387-13f8a6eaffdb"
            },
            "outputs": [],
            "execution_count": null
        },
        {
            "cell_type": "markdown",
            "source": [
                "## Create a Database Scoped Credential\r\n",
                "The database scoped credential is being used to authenticate and authorize against the external data source. Remember, that the specified secret (password) is being encrypted by the MASTER KEY."
            ],
            "metadata": {
                "azdata_cell_guid": "a3d10e13-a4ab-4a50-ba27-ff55c803003c"
            }
        },
        {
            "cell_type": "code",
            "source": [
                "CREATE DATABASE SCOPED CREDENTIAL CredentialForSQL\r\n",
                "WITH IDENTITY = 'extLogin', SECRET = 'P@ssw0rd1';"
            ],
            "metadata": {
                "azdata_cell_guid": "bf318160-f4c1-422f-acb6-c570f4ecf318"
            },
            "outputs": [],
            "execution_count": null
        },
        {
            "cell_type": "markdown",
            "source": [
                "## Create the External Data Source"
            ],
            "metadata": {
                "azdata_cell_guid": "7321b8ec-dd50-4480-b670-323f00fd8aed"
            }
        },
        {
            "cell_type": "code",
            "source": [
                "CREATE EXTERNAL DATA SOURCE SQL2017\r\n",
                "    WITH ( LOCATION = 'sqlserver://localhost',\r\n",
                "    PUSHDOWN = ON,\r\n",
                "    CREDENTIAL = CredentialForSQL);"
            ],
            "metadata": {
                "azdata_cell_guid": "105f65e2-7652-442a-aee5-463f97ce3f4d"
            },
            "outputs": [],
            "execution_count": null
        },
        {
            "cell_type": "markdown",
            "source": [
                "### PUSHDOWN\r\n",
                "Pushdown pushed down `where` predicates to the external data source, if the predicate is one of the following:\r\n",
                "* Binary comparision for numberic, date, and time values like: `=, !=, >, <`\r\n",
                "* Arithmetic operators like `+` and `-`\r\n",
                "* Logical operators like `AND` and `OR`\r\n",
                "* Unary operators like `NOT`, `IS NULL`, `IS NOT NULL`\r\n",
                "\r\n",
                "Possible pushdown for: `BETWEEN`, `NOT IN`, and `LIKE` depening on the query optimization phase."
            ],
            "metadata": {
                "azdata_cell_guid": "0fa1047b-ffa3-41d2-b655-5d82a19b9edc"
            }
        },
        {
            "cell_type": "markdown",
            "source": [
                "## Create the External Table"
            ],
            "metadata": {
                "azdata_cell_guid": "3a794dd3-20a7-445b-b9ca-2482b8c93e19"
            }
        },
        {
            "cell_type": "code",
            "source": [
                "USE [PolyBase]\r\n",
                "GO\r\n",
                "CREATE EXTERNAL TABLE dbo.extDatabases(\r\n",
                "    [name] SYSNAME,\r\n",
                "    [database_id] INT\r\n",
                ")\r\n",
                "WITH (\r\n",
                "    LOCATION='[master].[sys].[databases]',\r\n",
                "    DATA_SOURCE=SQL2017\r\n",
                ");"
            ],
            "metadata": {
                "azdata_cell_guid": "8b071d01-a932-44b3-ae70-36dcc88c5f38"
            },
            "outputs": [],
            "execution_count": null
        },
        {
            "cell_type": "code",
            "source": [
                "SELECT *\r\n",
                "  FROM dbo.extDatabases"
            ],
            "metadata": {
                "azdata_cell_guid": "ddf85442-b79a-4918-9f8d-84cb63c692bf"
            },
            "outputs": [],
            "execution_count": null
        },
        {
            "cell_type": "code",
            "source": [
                "USE [PolyBase];\r\n",
                "CREATE EXTERNAL TABLE [dbo].[DimAccount]\r\n",
                "(\r\n",
                "    [AccountKey] INT NOT NULL,\r\n",
                "    [ParentAccountKey] INT,\r\n",
                "    [AccountCodeAlternateKey] INT,\r\n",
                "    [ParentAccountCodeAlternateKey] INT,\r\n",
                "    [AccountDescription] NVARCHAR(50) COLLATE SQL_Latin1_General_CP1_CI_AS,\r\n",
                "    [AccountType] NVARCHAR(50) COLLATE SQL_Latin1_General_CP1_CI_AS,\r\n",
                "    [Operator] NVARCHAR(50) COLLATE SQL_Latin1_General_CP1_CI_AS,\r\n",
                "    [CustomMembers] NVARCHAR(300) COLLATE SQL_Latin1_General_CP1_CI_AS,\r\n",
                "    [ValueType] NVARCHAR(50) COLLATE SQL_Latin1_General_CP1_CI_AS,\r\n",
                "    [CustomMemberOptions] NVARCHAR(200) COLLATE SQL_Latin1_General_CP1_CI_AS\r\n",
                ")\r\n",
                "WITH (LOCATION = N'[AdventureWorksDW2017].[dbo].[DimAccount]', DATA_SOURCE = [SQL2017]);"
            ],
            "metadata": {
                "azdata_cell_guid": "f972238f-3da9-40be-8a62-813386022f0a"
            },
            "outputs": [],
            "execution_count": null
        },
        {
            "cell_type": "code",
            "source": [
                "SELECT * FROM dbo.DimAccount"
            ],
            "metadata": {
                "azdata_cell_guid": "83a34715-38bb-4014-9663-dddeca1e9acb"
            },
            "outputs": [],
            "execution_count": null
        }
    ]
}