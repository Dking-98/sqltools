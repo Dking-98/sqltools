{
    "metadata": {
        "kernelspec": {
            "name": "SQL",
            "display_name": "SQL",
            "language": "sql"
        },
        "language_info": {
            "name": "sql",
            "version": ""
        }
    },
    "nbformat_minor": 2,
    "nbformat": 4,
    "cells": [
        {
            "cell_type": "markdown",
            "source": [
                "# Demo Data Warehouse\r\n",
                "This notebook will guide you through creating a demo data warehouse of a beverage selling company.\r\n",
                "The data warehouse has the following dimensions:\r\n",
                "* ⏰ Date\r\n",
                "* 🌍 Country of Sales\r\n",
                "* 🏬 Sales Channel\r\n",
                "* 🍷 Product\r\n",
                "\r\n",
                "Source: [GitHub SQL Tools](https://github.com/schenkfab/sqltools)"
            ],
            "metadata": {
                "azdata_cell_guid": "41f684a0-f4d6-4fab-a2c9-2712b1e1cdb2"
            }
        },
        {
            "cell_type": "markdown",
            "source": [
                "## Database Creation\r\n",
                "\r\n",
                "Creates the database, if it doesn't exist yet.\r\n",
                "By default, the database will be named Partitioning with the file locations:\r\n",
                "* **Data**: F:\\DATA\\*\r\n",
                "* **Log**: G:\\Log\\*"
            ],
            "metadata": {
                "azdata_cell_guid": "21de1a7a-adc9-473b-a79b-5d11d40dd82d"
            }
        },
        {
            "cell_type": "code",
            "source": [
                "IF NOT EXISTS(SELECT 1 FROM sys.databases WHERE name = 'Partitioning')\r\n",
                "BEGIN\r\n",
                "   CREATE DATABASE [Partitioning]\r\n",
                "    CONTAINMENT = NONE\r\n",
                "    ON  PRIMARY \r\n",
                "   ( NAME = N'Partitioning', \r\n",
                "   FILENAME = N'E:\\DATA\\Partitioning.mdf' , SIZE = 1GB , FILEGROWTH = 1GB )\r\n",
                "    LOG ON \r\n",
                "   ( NAME = N'Partitioning_log', \r\n",
                "   FILENAME = N'G:\\Log\\Partitioning_log.ldf' , SIZE = 512MB , FILEGROWTH = 512MB )\r\n",
                "END\r\n",
                "\r\n",
                "GO\r\n",
                "USE [Partitioning]\r\n",
                "GO"
            ],
            "metadata": {
                "azdata_cell_guid": "c972798d-736b-46f0-a4e4-7715e6e18a1c",
                "tags": []
            },
            "outputs": [],
            "execution_count": null
        },
        {
            "cell_type": "markdown",
            "source": [
                "In the following sections, were are going to use the RAND() function to generate fact table entries and their corresponding constraints.\r\n",
                "\r\n",
                "If you require a value between `n` and `m` you need to specify the query like this:\r\n",
                "\r\n",
                "`\r\n",
                "SELECT n + CAST(RAND() * (m-n+1) AS INT)\r\n",
                "`\r\n",
                "\r\n",
                "Following a few example:\r\n",
                ""
            ],
            "metadata": {
                "azdata_cell_guid": "df754c3a-cf9f-4544-bdbb-949fdf44a7b6"
            }
        },
        {
            "cell_type": "code",
            "source": [
                "SELECT 1 + CAST(RAND() * 2 AS INT) -- Between 1 and 2\r\n",
                "\r\n",
                "SELECT 1 + CAST(RAND() * 10 AS INT) -- Between 1 and 10\r\n",
                "\r\n",
                "SELECT 5 + CAST(RAND() * 10 AS INT) -- Between 5 and 14 (RAND() * 10 AS INT --> Nr between 0 and 9) + 5 --> Nr between 5 and 14"
            ],
            "metadata": {
                "azdata_cell_guid": "6caac89d-e822-419f-af35-b26916da48a1",
                "tags": []
            },
            "outputs": [],
            "execution_count": null
        },
        {
            "cell_type": "markdown",
            "source": [
                "## Dimensions\r\n",
                "During the following statements, the dimensions will be created and propacated with data."
            ],
            "metadata": {
                "azdata_cell_guid": "8f7e13f9-4965-43e1-9234-93ee5d5a3826"
            }
        },
        {
            "cell_type": "markdown",
            "source": [
                "### DimDate\r\n",
                "The first dimension, we are creating is the date dimension with some attributes. \r\n",
                "\r\n",
                "``Note that there is a helper key column DateKey as an identity for our random function to work later on.``"
            ],
            "metadata": {
                "azdata_cell_guid": "57fa17c3-992c-4fc0-80df-c35a507335eb"
            }
        },
        {
            "cell_type": "code",
            "source": [
                "-- Dimension Date\r\n",
                "\r\n",
                "CREATE TABLE dbo.DimDate (\r\n",
                "   [DateID] INT PRIMARY KEY,\r\n",
                "   [Date] DATE NOT NULL,\r\n",
                "   [Month] INT NOT NULL,\r\n",
                "   [Year] INT NOT NULL,\r\n",
                "   [Day] INT NOT NULL,\r\n",
                "   [DateKey] INT IDENTITY(1,1) NOT NULL\r\n",
                ")\r\n",
                "\r\n",
                "GO"
            ],
            "metadata": {
                "azdata_cell_guid": "e6751971-02df-445b-8a24-650c1a9b44d6",
                "tags": []
            },
            "outputs": [],
            "execution_count": null
        },
        {
            "cell_type": "markdown",
            "source": [
                "After the creation of the dimension table, we are going to add records to the table as well. To do so, we are going to use a recursive CTE giving us all dates between 2019-01-01 and 2019-04-01."
            ],
            "metadata": {
                "azdata_cell_guid": "1e480fe6-2422-4cf3-8da9-e184503117f8"
            }
        },
        {
            "cell_type": "code",
            "source": [
                "-- Provision Dates in Range: January - March 2019\n",
                "\n",
                "TRUNCATE TABLE dbo.DimDate\n",
                "GO\n",
                "WITH sample AS (\n",
                "  SELECT CAST('2019-01-01' AS DATE) AS dt\n",
                "  UNION ALL\n",
                "  SELECT DATEADD(dd, 1, dt)\n",
                "    FROM sample s\n",
                "   WHERE DATEADD(dd, 1, dt) < CAST('2019-04-01' AS DATE))\n",
                "INSERT INTO dbo.DimDate\n",
                "SELECT convert(varchar(8), dt, 112), dt, MONTH(dt), YEAR(dt), DAY(dt)\n",
                "  FROM sample"
            ],
            "metadata": {
                "azdata_cell_guid": "9d43eed1-906b-471b-9377-11a3edd36451",
                "tags": []
            },
            "outputs": [],
            "execution_count": null
        },
        {
            "cell_type": "markdown",
            "source": [
                "### DimCountry\r\n",
                "The second dimension we are creating is Country. It defines in which country our products were sold. By default, it creates members:\r\n",
                "* Switzerland\r\n",
                "* Austria\r\n",
                "* Germany\r\n",
                "* Iceland"
            ],
            "metadata": {
                "azdata_cell_guid": "a7d33315-571d-49b0-82c9-61ba17aae509"
            }
        },
        {
            "cell_type": "code",
            "source": [
                "-- Dimension Country\r\n",
                "\r\n",
                "CREATE TABLE dbo.DimCountry (\r\n",
                "    [Id] INT IDENTITY(1,1) NOT NULL,\r\n",
                "    [Name] VARCHAR(20) NOT NULL\r\n",
                ")\r\n",
                "GO\r\n",
                "\r\n",
                "INSERT INTO dbo.DimCountry\r\n",
                "VALUES\r\n",
                "    ('Switzerland'),\r\n",
                "    ('Austria'),\r\n",
                "    ('Germany'),\r\n",
                "    ('Iceland')"
            ],
            "metadata": {
                "azdata_cell_guid": "02e0c450-e490-48e2-b296-cb111df7e83c",
                "tags": []
            },
            "outputs": [],
            "execution_count": null
        },
        {
            "cell_type": "markdown",
            "source": [
                "### DimProduct\r\n",
                "The products that were sold including a hierarchy. Category --> Name\r\n",
                "For the product categories, we are working with different kinds of alcohol:\r\n",
                "* Gin\r\n",
                "* Whisky\r\n",
                "* Rum"
            ],
            "metadata": {
                "azdata_cell_guid": "c451207d-7b3b-4db9-8c49-9da9cdeec454"
            }
        },
        {
            "cell_type": "code",
            "source": [
                "-- Dimension Product\r\n",
                "\r\n",
                "CREATE TABLE dbo.DimProduct (\r\n",
                "    [Id] INT IDENTITY(1,1) NOT NULL,\r\n",
                "    [Name] VARCHAR(50) NOT NULL,\r\n",
                "    [Category] VARCHAR(50) NOT NULL,\r\n",
                "    [Price] DECIMAL(14,2) NOT NULL\r\n",
                ")\r\n",
                "GO\r\n",
                "\r\n",
                "INSERT INTO dbo.DimProduct\r\n",
                "VALUES\r\n",
                "    ('Hendrick', 'Gin', 26.90),\r\n",
                "    ('Monkey 47', 'Gin', 29.90),\r\n",
                "    ('Tanqueray', 'Gin', 14.90),\r\n",
                "    ('The Illusionist', 'Gin', 29.90),\r\n",
                "    ('Gin Mare', 'Gin', 28.90),\r\n",
                "    ('Bombay Sapphire', 'Gin', 15.90),\r\n",
                "    ('Jack Daniels', 'Whisky', 16.50),\r\n",
                "    ('Lagavulin 16 Years Old', 'Whisky', 53.50),\r\n",
                "    ('lendronach 12 Years Old', 'Whisky', 32.50),\r\n",
                "    ('Aberfeldy 12 Years Old', 'Whisky', 31.50),\r\n",
                "    ('Glenfiddich 12 Years Old', 'Whisky', 24.90),\r\n",
                "    ('Botucal Reserva Exclusiva', 'Rum', 30.90),\r\n",
                "    ('Don Papa', 'Rum', 29.50),\r\n",
                "    ('Plantation Barbados 20th Anniversary', 'Rum', 37.50),\r\n",
                "    ('Ron Zacapa Centenario 23', 'Rum', 44.90),\r\n",
                "    ('Kraken Black Spiced', 'Rum', 16.50)\r\n",
                ""
            ],
            "metadata": {
                "azdata_cell_guid": "c3929c9d-09e5-4dc7-940a-06a8ff33d8be",
                "tags": []
            },
            "outputs": [],
            "execution_count": null
        },
        {
            "cell_type": "code",
            "source": [
                "-- Dimension SalesChannel\r\n",
                "\r\n",
                "CREATE TABLE dbo.DimSalesChannel (\r\n",
                "    [Id] INT IDENTITY(1,1) NOT NULL,\r\n",
                "    [Name] VARCHAR(50) NOT NULL\r\n",
                ")\r\n",
                "\r\n",
                "GO\r\n",
                "\r\n",
                "INSERT INTO dbo.DimSalesChannel\r\n",
                "VALUES\r\n",
                "    ('Online Shop'),('Store'),('Social Media')"
            ],
            "metadata": {
                "azdata_cell_guid": "db3b3576-97f4-4f09-a5a3-283ec3462c16",
                "tags": []
            },
            "outputs": [],
            "execution_count": null
        },
        {
            "cell_type": "code",
            "source": [
                "-- Fact Sales\r\n",
                "USE Partitioning\n",
                "\n",
                "\r\n",
                "CREATE TABLE dbo.FactSales (\r\n",
                "    [DateId] INT NOT NULL,\r\n",
                "    [CountryId] INT NOT NULL,\r\n",
                "    [ProductId] INT NOT NULL,\r\n",
                "    [SalesChannelId] INT NOT NULL,\r\n",
                "    [Quantity] INT NOT NULL,\r\n",
                "    [SalesAmount] DECIMAL(16,2) NULL\r\n",
                ")"
            ],
            "metadata": {
                "azdata_cell_guid": "4341545f-c4e2-44a9-895e-d33f53a063d6",
                "tags": []
            },
            "outputs": [],
            "execution_count": null
        },
        {
            "cell_type": "markdown",
            "source": [
                "*The following statement will create 1 million record. Depending on your environment, it might be faster to have it being executed in several SSMS windows at once to increase parallelim. Test it* 😎\r\n",
                "\r\n",
                "**Important: I would recommend copy / pasting this into SSMS and execute it there, as Azure Data Studio might lag out with higher numbers of executions.**"
            ],
            "metadata": {
                "azdata_cell_guid": "7785a4ae-4369-4b9f-b4e0-959b24662ccc"
            }
        },
        {
            "cell_type": "code",
            "source": [
                "-- Insert Facts:\r\n",
                "\r\n",
                "-- \r\n",
                "USE [Partitioning]\r\n",
                "GO\r\n",
                "\r\n",
                "SET NOCOUNT ON\r\n",
                "GO\r\n",
                "\r\n",
                "BEGIN TRAN\r\n",
                "GO\r\n",
                "\r\n",
                "\r\n",
                "DECLARE @DateKey INT\r\n",
                "DECLARE @DateId INT\r\n",
                "DECLARE @CountryId INT\r\n",
                "DECLARE @ProductId INT\r\n",
                "DECLARE @SalesChannelId INT\r\n",
                "DECLARE @Quantity INT\r\n",
                "DECLARE @QuantityHelper INT\r\n",
                "\r\n",
                "SELECT @DateKey = (1 + CAST(RAND() * 90 AS INT))\r\n",
                "     , @CountryId = (1 + CAST(RAND() * 4 AS INT))\r\n",
                "     , @ProductId = (1 + CAST(RAND() * 16 AS INT))\r\n",
                "     , @SalesChannelId = (1 + CAST(RAND() * 3 AS INT))\r\n",
                "     , @QuantityHelper = (1 + CAST(RAND() * 100 AS INT))\r\n",
                "\r\n",
                "SELECT @Quantity = CASE WHEN @QuantityHelper % 15 = 0 THEN 1\r\n",
                "                        WHEN @QuantityHelper % 15 = 1 THEN 1\r\n",
                "                        WHEN @QuantityHelper % 15 = 2 THEN 1\r\n",
                "                        WHEN @QuantityHelper % 15 = 3 THEN 2\r\n",
                "                        WHEN @QuantityHelper % 15 = 4 THEN 2\r\n",
                "                        WHEN @QuantityHelper % 15 = 5 THEN 2\r\n",
                "                        WHEN @QuantityHelper % 15 = 6 THEN 3\r\n",
                "                        WHEN @QuantityHelper % 15 = 7 THEN 3\r\n",
                "                        WHEN @QuantityHelper % 15 = 8 THEN 4\r\n",
                "                        WHEN @QuantityHelper % 15 = 9 THEN 4\r\n",
                "                        WHEN @QuantityHelper % 15 = 10 THEN 5\r\n",
                "                        WHEN @QuantityHelper % 15 = 11 THEN 5\r\n",
                "                        WHEN @QuantityHelper % 15 = 12 THEN 6\r\n",
                "                        WHEN @QuantityHelper % 15 = 13 THEN 7\r\n",
                "                        WHEN @QuantityHelper % 15 = 14 THEN 8\r\n",
                "                    END\r\n",
                "\r\n",
                "SELECT @DateId = DateId\r\n",
                "  FROM dbo.DimDate d\r\n",
                " WHERE d.DateKey = @DateKey\r\n",
                "\r\n",
                "INSERT INTO dbo.FactSales (DateId, CountryId, ProductId, SalesChannelId, Quantity)\r\n",
                "VALUES (@DateId, @CountryId, @ProductId, @SalesChannelId, @Quantity)\r\n",
                "\r\n",
                "\r\n",
                "GO 10000\r\n",
                "\r\n",
                "COMMIT\r\n",
                ""
            ],
            "metadata": {
                "azdata_cell_guid": "249bc0c4-6e2f-4103-9149-a5e1a963e1a9",
                "tags": []
            },
            "outputs": [],
            "execution_count": null
        },
        {
            "cell_type": "code",
            "source": [
                "-- Update SalesAmount for all newly added facts\r\n",
                "\r\n",
                "UPDATE f\r\n",
                "   SET SalesAmount = f.Quantity * p.Price\r\n",
                "  FROM dbo.FactSales f\r\n",
                " INNER JOIN dbo.DimProduct p ON p.Id = f.ProductId\r\n",
                " WHERE SalesAmount IS NULL"
            ],
            "metadata": {
                "azdata_cell_guid": "3e31174a-e66c-49a3-98ac-26942cf3d63e",
                "tags": []
            },
            "outputs": [],
            "execution_count": null
        },
        {
            "cell_type": "markdown",
            "source": [
                "If you wonder how many records you are loading per second, execute the statement below. 👨‍💻"
            ],
            "metadata": {
                "azdata_cell_guid": "0cee77fa-159a-4a6a-b94a-b0b79c7ca50d"
            }
        },
        {
            "cell_type": "code",
            "source": [
                "-- Speed of inserts\r\n",
                "\r\n",
                "\r\n",
                "DECLARE @startCount INT\r\n",
                "DECLARE @endCount INT\r\n",
                "\r\n",
                "\r\n",
                "SELECT @startCount = COUNT(*) FROM dbo.FactSales WITH (NOLOCK)\r\n",
                "\r\n",
                "WAITFOR DELAY '00:00:10';\r\n",
                "\r\n",
                "SELECT @endCount = COUNT(*) FROM dbo.FactSales WITH (NOLOCK)\r\n",
                "\r\n",
                "SELECT (1.0 / 10) * (@endCount - @startCount) As [Perf per Second]"
            ],
            "metadata": {
                "azdata_cell_guid": "ab3f324a-d6d2-4e83-9b88-8ca034dc56ab",
                "tags": []
            },
            "outputs": [],
            "execution_count": null
        }
    ]
}